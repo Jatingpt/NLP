{
  "nbformat": 4,
  "nbformat_minor": 0,
  "metadata": {
    "colab": {
      "provenance": [],
      "authorship_tag": "ABX9TyOZ0Juk+FFJQ+aaSA5lzE/I",
      "include_colab_link": true
    },
    "kernelspec": {
      "name": "python3",
      "display_name": "Python 3"
    },
    "language_info": {
      "name": "python"
    }
  },
  "cells": [
    {
      "cell_type": "markdown",
      "metadata": {
        "id": "view-in-github",
        "colab_type": "text"
      },
      "source": [
        "<a href=\"https://colab.research.google.com/github/Jatingpt/NLP/blob/main/NLP.ipynb\" target=\"_parent\"><img src=\"https://colab.research.google.com/assets/colab-badge.svg\" alt=\"Open In Colab\"/></a>"
      ]
    },
    {
      "cell_type": "markdown",
      "source": [
        "##**What is NLP?**\n",
        "\n",
        "##**NLP is a technology which is used by machine to understand, analyse and manipulate human language.**\n",
        "\n",
        "##**It is a combination of Computer Science, Artificial Intelligence and Human Language.**"
      ],
      "metadata": {
        "id": "w5GtUdqK0W1l"
      }
    },
    {
      "cell_type": "markdown",
      "source": [
        "##**Applications of NLP- Alexa, Siri, Google Assistance, Google Translator, To checking the span messages etc.**"
      ],
      "metadata": {
        "id": "UMBgtlnl09Gt"
      }
    },
    {
      "cell_type": "markdown",
      "source": [
        "##**Components of NLP->**\n",
        "                          1. NLU(Natural Language Understanding)\n",
        "                          2. NLG(Natural Language Generation)\n",
        "\n",
        "1. NLU- It is working on the probability of texts or searching that how many times that we have searched anything(e.g if we pressed \"G\" on google then it will automatically suggesting the \"Google\").\n",
        "\n",
        "2. NLG- It is basically generating something. E.g Google Translator."
      ],
      "metadata": {
        "id": "NO-GC-gx2Jzr"
      }
    },
    {
      "cell_type": "markdown",
      "source": [
        "##**What are the challenges faced in NLP?**\n",
        "\n",
        "There are many challenges faced in NLP.\n",
        "\n",
        "1. Synonyms(Can't get the difference in 'Good' and 'Better'.)\n",
        "2. Con"
      ],
      "metadata": {
        "id": "xto_9HLh3Wm0"
      }
    },
    {
      "cell_type": "code",
      "execution_count": null,
      "metadata": {
        "id": "e32m7SRCuqNI"
      },
      "outputs": [],
      "source": []
    }
  ]
}